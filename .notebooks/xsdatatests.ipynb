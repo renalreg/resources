{
 "cells": [
  {
   "cell_type": "code",
   "execution_count": 1,
   "metadata": {},
   "outputs": [],
   "source": []
  },
  {
   "cell_type": "code",
   "execution_count": 13,
   "metadata": {},
   "outputs": [],
   "source": [
    "import datetime\n",
    "from xsdata.models.datatype import XmlDateTime\n",
    "from ukrdc_xsdata import ukrdc\n",
    "from ukrdc_xsdata.ukrdc.types import PatientNumbers, PatientNumber, PatientNumberNumberType, PatientNumberOrganization\n",
    "from ukrdc_xsdata.ukrdc.types.gender import Gender\n",
    "\n",
    "record = ukrdc.PatientRecord()\n",
    "\n",
    "record.sending_facility = \"RFBAK\"\n",
    "record.sending_extract = \"PV\"\n",
    "\n",
    "record.patient = ukrdc.Patient()\n",
    "\n",
    "record.patient.patient_numbers = PatientNumbers()\n",
    "record.patient.patient_numbers.patient_number.append(\n",
    "    PatientNumber(\n",
    "        number=\"1111111111\",\n",
    "        organization=PatientNumberOrganization.CHI,\n",
    "        number_type=PatientNumberNumberType.NI,\n",
    "    )\n",
    ")\n",
    "record.patient.patient_numbers.patient_number.append(\n",
    "    PatientNumber(\n",
    "        number=\"U0000000\",\n",
    "        organization=PatientNumberOrganization.LOCALHOSP,\n",
    "        number_type=PatientNumberNumberType.MRN,\n",
    "    )\n",
    ")\n",
    "\n",
    "record.patient.birth_time = XmlDateTime.from_datetime(datetime.datetime(year=1950, month=10, day=1))\n",
    "record.patient.gender = Gender.VALUE_9\n"
   ]
  },
  {
   "cell_type": "code",
   "execution_count": 15,
   "metadata": {},
   "outputs": [
    {
     "data": {
      "text/plain": [
       "'<?xml version=\"1.0\" encoding=\"UTF-8\"?>\\n<ns0:PatientRecord xmlns:ns0=\"http://www.rixg.org.uk/\"><SendingFacility>RFBAK</SendingFacility><SendingExtract>PV</SendingExtract><Patient><PatientNumbers><PatientNumber><Number>1111111111</Number><Organization>CHI</Organization><NumberType>NI</NumberType></PatientNumber><PatientNumber><Number>U0000000</Number><Organization>LOCALHOSP</Organization><NumberType>MRN</NumberType></PatientNumber></PatientNumbers><BirthTime>1950-10-01T00:00:00</BirthTime><Gender>9</Gender></Patient></ns0:PatientRecord>'"
      ]
     },
     "execution_count": 15,
     "metadata": {},
     "output_type": "execute_result"
    }
   ],
   "source": [
    "from xsdata.formats.dataclass.serializers.xml import XmlSerializer\n",
    "\n",
    "XmlSerializer().render(record)"
   ]
  },
  {
   "cell_type": "code",
   "execution_count": 29,
   "metadata": {},
   "outputs": [],
   "source": [
    "import datetime\n",
    "from xsdata.models.datatype import XmlDateTime\n",
    "from ukrdc_xsdata.ukrdc import PatientRecord, Patient, types\n",
    "\n",
    "record = PatientRecord(\n",
    "    sending_facility = \"RFBAK\",\n",
    "    sending_extract = \"PV\",\n",
    "    patient = Patient(\n",
    "        birth_time = XmlDateTime.from_datetime(datetime.datetime(year=1950, month=10, day=1)),\n",
    "        gender = types.gender.Gender.VALUE_9,\n",
    "        names = Patient.Names(\n",
    "            name = [\n",
    "                types.Name(\n",
    "                    use=\"L\",\n",
    "                    family=\"A TEST PATIENT\", \n",
    "                    given=\"TESTING\"\n",
    "                )\n",
    "            ]\n",
    "        ),\n",
    "        addresses = Patient.Addresses(\n",
    "            address = [\n",
    "                types.Address(\n",
    "                    street=\"1 TEST STREET\",\n",
    "                    town=\"TEST TOWN\",\n",
    "                    county=\"TEST COUNTY\",\n",
    "                    postcode=\"DK1 3GG\",\n",
    "                    country=types.Address.Country(\n",
    "                        coding_standard=\"ISO3166-1\",\n",
    "                        code=\"GB\",\n",
    "                        description=\"United Kingdom\"\n",
    "                    )\n",
    "                )\n",
    "            ]\n",
    "        ),\n",
    "        patient_numbers = types.PatientNumbers(\n",
    "            patient_number = [\n",
    "                types.PatientNumber(\n",
    "                    number=\"1111111111\",\n",
    "                    organization=types.PatientNumberOrganization.CHI,\n",
    "                    number_type=types.PatientNumberNumberType.NI,\n",
    "                ),\n",
    "                types.PatientNumber(\n",
    "                    number=\"U0000000\",\n",
    "                    organization=types.PatientNumberOrganization.LOCALHOSP,\n",
    "                    number_type=types.PatientNumberNumberType.MRN,\n",
    "                )\n",
    "            ]\n",
    "        )\n",
    "    )\n",
    ")\n",
    "\n"
   ]
  },
  {
   "cell_type": "code",
   "execution_count": 36,
   "metadata": {},
   "outputs": [
    {
     "name": "stdout",
     "output_type": "stream",
     "text": [
      "<?xml version=\"1.0\" encoding=\"UTF-8\"?>\n",
      "<ns0:PatientRecord xmlns:ns0=\"http://www.rixg.org.uk/\"><SendingFacility>RFBAK</SendingFacility><SendingExtract>PV</SendingExtract><Patient><PatientNumbers><PatientNumber><Number>1111111111</Number><Organization>CHI</Organization><NumberType>NI</NumberType></PatientNumber><PatientNumber><Number>U0000000</Number><Organization>LOCALHOSP</Organization><NumberType>MRN</NumberType></PatientNumber></PatientNumbers><Names><Name use=\"L\"><Family>A TEST PATIENT</Family><Given>TESTING</Given></Name></Names><BirthTime>1950-10-01T00:00:00</BirthTime><Gender>9</Gender><Addresses><Address><Street>1 TEST STREET</Street><Town>TEST TOWN</Town><County>TEST COUNTY</County><Postcode>DK1 3GG</Postcode><Country><CodingStandard>ISO3166-1</CodingStandard><Code>GB</Code><Description>United Kingdom</Description></Country></Address></Addresses></Patient></ns0:PatientRecord>\n"
     ]
    }
   ],
   "source": [
    "from xsdata.formats.dataclass.serializers.xml import XmlSerializer\n",
    "\n",
    "print(XmlSerializer().render(record))"
   ]
  },
  {
   "cell_type": "code",
   "execution_count": 12,
   "metadata": {},
   "outputs": [
    {
     "name": "stdout",
     "output_type": "stream",
     "text": [
      "{'sending_facility': {'value': 'RFBAK', 'channel_name': None, 'channel_id': None, 'time': None, 'schema_version': None}, 'sending_extract': <SendingExtract.PV: 'PV'>, 'patient': {'patient_numbers': {'patient_number': [{'number': '1111111111', 'organization': <PatientNumberOrganization.CHI: 'CHI'>, 'number_type': <PatientNumberNumberType.NI: 'NI'>}, {'number': 'U0000000', 'organization': <PatientNumberOrganization.LOCALHOSP: 'LOCALHOSP'>, 'number_type': <PatientNumberNumberType.MRN: 'MRN'>}]}, 'names': {'name': [{'prefix': None, 'family': 'A TEST PATIENT', 'given': 'TESTING', 'other_given_names': None, 'suffix': None, 'use': <NameUse.L: 'L'>}]}, 'birth_time': XmlDateTime(1950, 10, 1, 0, 0, 0), 'death_time': None, 'gender': <Gender.VALUE_9: '9'>, 'addresses': {'address': [{'from_time': None, 'to_time': None, 'street': '1 TEST STREET', 'town': 'TEST TOWN', 'county': 'TEST COUNTY', 'postcode': 'DK1 3GG', 'country': {'coding_standard': <CountryCodingStandard.ISO3166_1: 'ISO3166-1'>, 'code': 'GB', 'description': 'United Kingdom'}, 'use': None}]}, 'contact_details': None, 'country_of_birth': None, 'family_doctor': None, 'person_to_contact': None, 'ethnic_group': None, 'occupation': None, 'primary_language': None, 'blood_group': None, 'blood_rhesus': None, 'death': None, 'updated_on': None, 'external_id': None}, 'lab_orders': None, 'social_histories': None, 'family_histories': None, 'observations': None, 'allergies': None, 'diagnoses': None, 'medications': None, 'procedures': None, 'documents': None, 'encounters': None, 'program_memberships': None, 'opt_outs': None, 'clinical_relationships': None, 'surveys': None, 'pvdata': None}\n"
     ]
    }
   ],
   "source": [
    "in_xml = \"\"\"\n",
    "<?xml version=\"1.0\" encoding=\"UTF-8\"?>\n",
    "<ns0:PatientRecord xmlns:ns0=\"http://www.rixg.org.uk/\">\n",
    "    <SendingFacility>RFBAK</SendingFacility>\n",
    "    <SendingExtract>PV</SendingExtract>\n",
    "    <Patient>\n",
    "        <PatientNumbers>\n",
    "            <PatientNumber>\n",
    "                <Number>1111111111</Number>\n",
    "                <Organization>CHI</Organization>\n",
    "                <NumberType>NI</NumberType>\n",
    "            </PatientNumber>\n",
    "            <PatientNumber>\n",
    "                <Number>U0000000</Number>\n",
    "                <Organization>LOCALHOSP</Organization>\n",
    "                <NumberType>MRN</NumberType>\n",
    "            </PatientNumber>\n",
    "        </PatientNumbers>\n",
    "        <Names>\n",
    "            <Name use=\"L\">\n",
    "                <Family>A TEST PATIENT</Family>\n",
    "                <Given>TESTING</Given>\n",
    "            </Name>\n",
    "        </Names>\n",
    "        <BirthTime>1950-10-01T00:00:00</BirthTime>\n",
    "        <Gender>9</Gender>\n",
    "        <Addresses>\n",
    "            <Address>\n",
    "                <Street>1 TEST STREET</Street>\n",
    "                <Town>TEST TOWN</Town>\n",
    "                <County>TEST COUNTY</County>\n",
    "                <Postcode>DK1 3GG</Postcode>\n",
    "                <Country>\n",
    "                    <CodingStandard>ISO3166-1</CodingStandard>\n",
    "                    <Code>GB</Code>\n",
    "                    <Description>United Kingdom</Description>\n",
    "                </Country>\n",
    "            </Address>\n",
    "        </Addresses>\n",
    "    </Patient>\n",
    "</ns0:PatientRecord>\n",
    "\"\"\"\n",
    "\n",
    "from ukrdc_xsdata.ukrdc import PatientRecord\n",
    "from xsdata.formats.dataclass.parsers import XmlParser\n",
    "\n",
    "obj = XmlParser().from_string(in_xml, PatientRecord)\n",
    "\n",
    "from dataclasses import asdict\n",
    "\n",
    "print(asdict(obj))"
   ]
  },
  {
   "cell_type": "code",
   "execution_count": 28,
   "metadata": {},
   "outputs": [
    {
     "name": "stdout",
     "output_type": "stream",
     "text": [
      "{'sending_facility': {'value': 'ABC123', 'channel_name': 'UKRRSystemExtract', 'channel_id': None, 'time': None, 'schema_version': '3.0.0'}, 'sending_extract': <SendingExtract.UKRDC: 'UKRDC'>, 'patient': {'patient_numbers': {'patient_number': [{'number': 'AAA111B', 'organization': <PatientNumberOrganization.LOCALHOSP: 'LOCALHOSP'>, 'number_type': <PatientNumberNumberType.MRN: 'MRN'>}, {'number': '1111111111', 'organization': <PatientNumberOrganization.NHS: 'NHS'>, 'number_type': <PatientNumberNumberType.NI: 'NI'>}]}, 'names': {'name': [{'prefix': 'Mr', 'family': 'Surname', 'given': 'Forename', 'other_given_names': None, 'suffix': None, 'use': <NameUse.L: 'L'>}]}, 'birth_time': XmlDateTime(2006, 5, 4, 18, 13, 51), 'death_time': None, 'gender': <Gender.VALUE_1: '1'>, 'addresses': {'address': [{'from_time': XmlDate(2006, 5, 4), 'to_time': XmlDate(2006, 5, 4), 'street': 'Street0', 'town': 'Town0', 'county': 'County0', 'postcode': 'BS10 5NB', 'country': {'coding_standard': <CountryCodingStandard.ISO3166_1: 'ISO3166-1'>, 'code': 'GBR', 'description': 'Great Britain'}, 'use': <AddressUse.H: 'H'>}]}, 'contact_details': {'contact_detail': [{'value': '0117 11111111', 'comments': None, 'use': <ContactDetailUse.PRN: 'PRN'>}]}, 'country_of_birth': 'GBR', 'family_doctor': {'gpname': None, 'gppractice_id': 'J11111', 'gpid': 'G2222222', 'address': None, 'contact_detail': None, 'email': 'reception@villagegp.nhs.uk'}, 'person_to_contact': None, 'ethnic_group': {'coding_standard': <EthnicGroupCodingStandard.NHS_DATA_DICTIONARY: 'NHS_DATA_DICTIONARY'>, 'code': <EthnicGroupCode.A: 'A'>, 'description': 'White - British'}, 'occupation': None, 'primary_language': None, 'blood_group': <BloodGroup.A: 'A'>, 'blood_rhesus': <BloodRhesus.POS: 'POS'>, 'death': False, 'updated_on': XmlDateTime(2006, 5, 4, 18, 13, 51), 'external_id': '1122334455'}, 'lab_orders': {'lab_order': [{'receiving_location': {'coding_standard': <LocationCodingStandard.RR1: 'RR1+'>, 'code': 'ABC123', 'description': 'Test Hospital'}, 'placer_id': 'PlacerId0', 'filler_id': 'FillerId0', 'ordered_by': {'coding_standard': <ClinicianCodingStandard.ODS: 'ODS'>, 'code': 'AA1122', 'description': 'Test Hospital 2'}, 'order_item': {'coding_standard': 'LOCAL', 'code': '11223344', 'description': 'Full Blood Test'}, 'order_category': None, 'specimen_collected_time': XmlDateTime(2006, 5, 4, 18, 13, 51), 'specimen_received_time': XmlDateTime(2006, 5, 4, 18, 13, 51), 'status': None, 'priority': None, 'specimen_source': 'BLOOD', 'duration': None, 'result_items': {'result_item': [{'result_type': None, 'entered_on': XmlDateTime(2006, 5, 4, 18, 13, 51), 'pre_post': <ResultItemPrePost.PRE: 'PRE'>, 'service_id': {'coding_standard': <ServiceIdCodingStandard.UKRR: 'UKRR'>, 'code': 'QBLA1', 'description': 'Serum Creatinine'}, 'sub_id': None, 'result_value': '78', 'result_value_units': 'mmol/L', 'reference_range': '10-1000', 'interpretation_codes': None, 'status': None, 'observation_time': XmlDateTime(2006, 5, 4, 18, 13, 51), 'comments': None, 'reference_comment': None}, {'result_type': None, 'entered_on': XmlDateTime(2006, 5, 4, 18, 13, 51), 'pre_post': <ResultItemPrePost.PRE: 'PRE'>, 'service_id': {'coding_standard': <ServiceIdCodingStandard.UKRR: 'UKRR'>, 'code': 'QBLF7', 'description': 'Serum B12'}, 'sub_id': None, 'result_value': '100', 'result_value_units': 'ng/L', 'reference_range': '0-10000', 'interpretation_codes': None, 'status': None, 'observation_time': XmlDateTime(2006, 5, 4, 18, 13, 51), 'comments': None, 'reference_comment': None}]}, 'patient_class': None, 'entered_on': XmlDateTime(2006, 5, 4, 18, 13, 51), 'entered_at': {'coding_standard': <LocationCodingStandard.RR1: 'RR1+'>, 'code': 'ABC123', 'description': 'Test Hospital'}, 'entering_organization': {'coding_standard': <LocationCodingStandard.RR1: 'RR1+'>, 'code': 'ABC123', 'description': 'Test Hospital'}, 'updated_on': XmlDateTime(2006, 5, 4, 18, 13, 51), 'external_id': '9999999999'}], 'start': XmlDate(2021, 1, 1), 'stop': XmlDate(2021, 4, 1)}, 'social_histories': None, 'family_histories': None, 'observations': {'observation': [{'observation_time': XmlDateTime(2006, 5, 4, 18, 13, 51), 'observation_code': {'coding_standard': 'UKRR', 'code': 'QBLG3', 'description': 'Systolic BP'}, 'observation_value': '150', 'observation_units': 'mmHg', 'pre_post': <ObservationPrePost.PRE: 'PRE'>, 'comments': None, 'clinician': None, 'entered_at': {'coding_standard': <LocationCodingStandard.RR1: 'RR1+'>, 'code': 'ABC123', 'description': 'Test Hospital'}, 'entering_organization': {'coding_standard': <LocationCodingStandard.RR1: 'RR1+'>, 'code': 'ABC123', 'description': 'Test Hospital'}, 'updated_on': XmlDateTime(2006, 5, 4, 18, 13, 51), 'external_id': '88888888'}, {'observation_time': XmlDateTime(2006, 5, 4, 18, 13, 51), 'observation_code': {'coding_standard': 'UKRR', 'code': 'QBLG4', 'description': 'Diastolic BP'}, 'observation_value': '100', 'observation_units': 'mmHg', 'pre_post': <ObservationPrePost.PRE: 'PRE'>, 'comments': None, 'clinician': None, 'entered_at': {'coding_standard': <LocationCodingStandard.RR1: 'RR1+'>, 'code': 'ABC123', 'description': 'Test Hospital'}, 'entering_organization': {'coding_standard': <LocationCodingStandard.RR1: 'RR1+'>, 'code': 'ABC123', 'description': 'Test Hospital'}, 'updated_on': XmlDateTime(2006, 5, 4, 18, 13, 51), 'external_id': '7777777777'}], 'start': XmlDate(2021, 1, 1), 'stop': XmlDate(2021, 4, 1)}, 'allergies': None, 'diagnoses': {'diagnosis': [{'diagnosis_type': None, 'diagnosing_clinician': None, 'diagnosis': {'coding_standard': <CfSnomedCodingStandard.SNOMED: 'SNOMED'>, 'code': '414545008', 'description': 'Ischaemic Heart Disease'}, 'comments': None, 'identification_time': XmlDateTime(2006, 5, 4, 18, 13, 51), 'onset_time': XmlDateTime(2006, 5, 4, 18, 13, 51), 'verification_status': None, 'entered_on': XmlDateTime(2006, 5, 4, 18, 13, 51), 'encounter_number': None, 'entered_at': {'coding_standard': <LocationCodingStandard.RR1: 'RR1+'>, 'code': 'ABC123', 'description': 'Test Hospital'}, 'updated_on': XmlDateTime(2006, 5, 4, 18, 13, 51), 'external_id': '5555555555'}, {'diagnosis_type': None, 'diagnosing_clinician': None, 'diagnosis': {'coding_standard': <CfSnomedCodingStandard.SNOMED: 'SNOMED'>, 'code': '235856003', 'description': 'Liver Disease'}, 'comments': None, 'identification_time': XmlDateTime(2006, 5, 4, 18, 13, 51), 'onset_time': XmlDateTime(2006, 5, 4, 18, 13, 51), 'verification_status': None, 'entered_on': XmlDateTime(2006, 5, 4, 18, 13, 51), 'encounter_number': None, 'entered_at': {'coding_standard': <LocationCodingStandard.RR1: 'RR1+'>, 'code': 'ABC123', 'description': 'Test Hospital 1'}, 'updated_on': XmlDateTime(2006, 5, 4, 18, 13, 51), 'external_id': '778787876878'}], 'cause_of_death': {'diagnosis_type': None, 'diagnosing_clinician': None, 'diagnosis': {'coding_standard': <CfEdtaCodCodingStandard.EDTA_COD: 'EDTA_COD'>, 'code': <CfEdtaCodCode.VALUE_14: '14'>, 'description': 'Other causes of cardiac failure'}, 'comments': 'Comments15', 'entered_on': XmlDateTime(2006, 5, 4, 18, 13, 51), 'updated_on': XmlDateTime(2006, 5, 4, 18, 13, 51), 'external_id': '211111221'}, 'renal_diagnosis': {'diagnosis_type': None, 'diagnosing_clinician': None, 'diagnosis': {'coding_standard': <CfEdtaPrdCodingStandard.EDTA2: 'EDTA2'>, 'code': <CfEdtaPrdCode.VALUE_13: '13'>, 'description': 'Dense deposite disease, membrano-prolif. GN Type II'}, 'comments': 'Comments16', 'identification_time': XmlDateTime(2006, 5, 4, 18, 13, 51), 'onset_time': XmlDateTime(2006, 5, 4, 18, 13, 51), 'entered_on': XmlDateTime(2006, 5, 4, 18, 13, 51), 'updated_on': XmlDateTime(2006, 5, 4, 18, 13, 51), 'external_id': '433444333222'}}, 'medications': {'medication': [{'prescription_number': None, 'from_time': XmlDateTime(2006, 5, 4, 18, 13, 51), 'to_time': XmlDateTime(2006, 5, 4, 18, 13, 51), 'ordered_by': None, 'entering_organization': None, 'route': {'coding_standard': <RouteCodingStandard.RR22: 'RR22'>, 'code': '1', 'description': 'Oral'}, 'drug_product': {'id': None, 'generic': 'Generic0', 'label_name': 'LabelName0', 'form': {'coding_standard': <CfSnomedCodingStandard.SNOMED: 'SNOMED'>, 'code': 'Code60', 'description': 'Description60'}, 'strength_units': {'coding_standard': <CfRr23CodingStandard.CF_RR23: 'CF_RR23'>, 'code': <CfRr23Code.L: 'l'>, 'description': 'Description61'}}, 'frequency': 'Frequency0', 'comments': 'Comments17', 'dose_quantity': Decimal('0'), 'dose_uo_m': {'coding_standard': 'CodingStandard62', 'code': 'Code62', 'description': 'Description62'}, 'indication': 'Indication0', 'encounter_number': 'EncounterNumber2', 'updated_on': XmlDateTime(2006, 5, 4, 18, 13, 51), 'external_id': 'ExternalId15'}]}, 'procedures': {'procedure': [], 'dialysis_sessions': [{'dialysis_session': [{'procedure_type': {'coding_standard': <CfSnomedCodingStandard.SNOMED: 'SNOMED'>, 'code': '302497006', 'description': 'Haemodialysis'}, 'clinician': None, 'procedure_time': XmlDateTime(2006, 5, 4, 18, 13, 51), 'entered_by': {'coding_standard': <ClinicianCodingStandard.ODS: 'ODS'>, 'code': 'ABC123', 'description': 'Dr Foster'}, 'entered_at': {'coding_standard': <LocationCodingStandard.RR1: 'RR1+'>, 'code': 'ABC123', 'description': 'Test Hospital'}, 'updated_on': XmlDateTime(2006, 5, 4, 18, 13, 51), 'external_id': '787878787', 'attributes': {'qhd19': 'Y', 'qhd20': <AttributesQhd20.NLN: 'NLN'>, 'qhd21': <AttributesQhd21.BB: 'BB'>, 'qhd22': 'Y', 'qhd30': 100, 'qhd31': 200, 'qhd32': 300, 'qhd33': <AttributesQhd33.U: 'U'>}}, {'procedure_type': {'coding_standard': <CfSnomedCodingStandard.SNOMED: 'SNOMED'>, 'code': 'Code82', 'description': 'Description82'}, 'clinician': {'coding_standard': <ClinicianCodingStandard.ODS: 'ODS'>, 'code': 'Code83', 'description': 'Description83'}, 'procedure_time': XmlDateTime(2006, 5, 4, 18, 13, 51), 'entered_by': {'coding_standard': <ClinicianCodingStandard.ODS: 'ODS'>, 'code': 'Code84', 'description': 'Description84'}, 'entered_at': {'coding_standard': <LocationCodingStandard.ODS: 'ODS'>, 'code': 'Code85', 'description': 'Description85'}, 'updated_on': XmlDateTime(2006, 5, 4, 18, 13, 51), 'external_id': 'ExternalId20', 'attributes': {'qhd19': 'Y', 'qhd20': <AttributesQhd20.NLN: 'NLN'>, 'qhd21': <AttributesQhd21.BB: 'BB'>, 'qhd22': 'Y', 'qhd30': 100, 'qhd31': 200, 'qhd32': 300, 'qhd33': <AttributesQhd33.L: 'L'>}}], 'start': None, 'stop': None}], 'transplant': [{'procedure_type': {'coding_standard': <CfSnomedCodingStandard.SNOMED: 'SNOMED'>, 'code': '19647005', 'description': 'PEX'}, 'clinician': None, 'procedure_time': XmlDateTime(2006, 5, 4, 18, 13, 51), 'entered_by': {'coding_standard': <ClinicianCodingStandard.ODS: 'ODS'>, 'code': 'ABC123', 'description': 'Dr Foster'}, 'entered_at': {'coding_standard': <LocationCodingStandard.RR1: 'RR1+'>, 'code': 'ABC123', 'description': 'Test Hospital'}, 'updated_on': XmlDateTime(2006, 5, 4, 18, 13, 51), 'external_id': '1222333444', 'attributes': {'tra64': XmlDateTime(2006, 5, 4, 18, 13, 51), 'tra65': <AttributesTra65.VALUE_14: '14'>, 'tra66': '2006-05-04T18:13:51.0', 'tra69': XmlDateTime(2006, 5, 4, 18, 13, 51), 'tra76': '21', 'tra77': <AttributesTra77.DBD: 'DBD'>, 'tra78': 'NEG', 'tra79': 'NEG', 'tra80': 27, 'tra8_a': <Gender.VALUE_1: '1'>, 'tra81': 'NEG', 'tra82': 'NEG', 'tra83': '0', 'tra84': '0', 'tra85': '0', 'tra86': 'Y', 'tra87': 'Y', 'tra88': 'Y', 'tra89': 'Y', 'tra90': 'Y', 'tra91': '90', 'tra92': 'Y', 'tra93': '0', 'tra94': '1', 'tra95': '2', 'tra96': 'Y', 'tra97': <NvRr14.VALUE_10: '10'>, 'tra98': <NvRr14.VALUE_10: '10'>}}], 'vascular_access': [{'procedure_type': {'coding_standard': <CfSnomedCodingStandard.SNOMED: 'SNOMED'>, 'code': '27929005', 'description': 'Construction of arteriovenous fistula'}, 'clinician': None, 'procedure_time': XmlDateTime(2006, 5, 4, 18, 13, 51), 'entered_by': {'coding_standard': <ClinicianCodingStandard.ODS: 'ODS'>, 'code': 'ABC123', 'description': 'Dr Foster'}, 'entered_at': {'coding_standard': <LocationCodingStandard.RR1: 'RR1+'>, 'code': 'ABC123', 'description': 'Test Hospital'}, 'updated_on': XmlDateTime(2006, 5, 4, 18, 13, 51), 'external_id': '1111111111', 'attributes': {'acc19': XmlDateTime(2006, 5, 4, 18, 13, 51), 'acc20': XmlDateTime(2006, 5, 4, 18, 13, 51), 'acc21': XmlDateTime(2006, 5, 4, 18, 13, 51), 'acc22': '100', 'acc30': <AttributesAcc30.VALUE_1: '1'>, 'acc40': '300'}}]}, 'documents': {'document': [{'document_time': XmlDateTime(2006, 5, 4, 18, 13, 51), 'note_text': 'This is some plain text.', 'document_type': None, 'clinician': None, 'document_name': 'GP Letter', 'status': None, 'entered_by': None, 'entered_at': None, 'file_type': 'text/plain', 'file_name': 'letter.txt', 'stream': None, 'document_url': None, 'updated_on': XmlDateTime(2006, 5, 4, 18, 13, 51), 'external_id': '1111111111'}]}, 'encounters': {'encounter': [], 'treatment': [{'encounter_number': None, 'encounter_type': None, 'from_time': XmlDate(2006, 5, 4), 'to_time': XmlDate(2021, 5, 4), 'admitting_clinician': None, 'health_care_facility': {'coding_standard': <LocationCodingStandard.RR1: 'RR1+'>, 'code': 'ABC123', 'description': 'Test Hospital'}, 'admit_reason': {'coding_standard': <CfRr7TreatmentCodingStandard.CF_RR7_TREATMENT: 'CF_RR7_TREATMENT'>, 'code': <CfRr7TreatmentCode.VALUE_1: '1'>, 'description': 'Haemodialysis'}, 'admission_source': {'coding_standard': <LocationCodingStandard.RR1: 'RR1+'>, 'code': 'ABROAD', 'description': 'ABROAD'}, 'discharge_reason': {'coding_standard': <CfRr7DischargeCodingStandard.CF_RR7_DISCHARGE: 'CF_RR7_DISCHARGE'>, 'code': <CfRr7DischargeCode.VALUE_38: '38'>, 'description': 'Patient Transferred Out'}, 'discharge_location': {'coding_standard': <LocationCodingStandard.RR1: 'RR1+'>, 'code': 'AAA111', 'description': 'Another Hospital'}, 'entered_at': None, 'visit_description': None, 'attributes': {'hdp01': 100, 'hdp02': 200, 'hdp03': 300, 'hdp04': 400, 'qbl05': <AttributesQbl05.HOSP: 'HOSP'>, 'qbl06': '1', 'qbl07': 'Y', 'erf61': <AttributesErf61.VALUE_1: '1'>, 'pat35': XmlDateTime(2006, 5, 4, 18, 13, 51)}, 'updated_on': XmlDateTime(2006, 5, 4, 18, 13, 51), 'external_id': '3343433432234'}], 'transplant_list': []}, 'program_memberships': None, 'opt_outs': None, 'clinical_relationships': None, 'surveys': None, 'pvdata': None}\n"
     ]
    }
   ],
   "source": [
    "with open(\"ukrdc.xml\", \"r\") as f:\n",
    "    in_xml = f.read()\n",
    "\n",
    "from ukrdc_xsdata.ukrdc import PatientRecord\n",
    "from xsdata.formats.dataclass.parsers import XmlParser\n",
    "\n",
    "obj = XmlParser().from_string(in_xml, PatientRecord)\n",
    "\n",
    "from dataclasses import asdict\n",
    "\n",
    "print(asdict(obj))"
   ]
  },
  {
   "cell_type": "code",
   "execution_count": null,
   "metadata": {},
   "outputs": [],
   "source": []
  }
 ],
 "metadata": {
  "interpreter": {
   "hash": "31f2aee4e71d21fbe5cf8b01ff0e069b9275f58929596ceb00d14d90e3e16cd6"
  },
  "kernelspec": {
   "display_name": "Python 3.8.10 64-bit",
   "language": "python",
   "name": "python3"
  },
  "language_info": {
   "codemirror_mode": {
    "name": "ipython",
    "version": 3
   },
   "file_extension": ".py",
   "mimetype": "text/x-python",
   "name": "python",
   "nbconvert_exporter": "python",
   "pygments_lexer": "ipython3",
   "version": "3.8.10"
  },
  "orig_nbformat": 4
 },
 "nbformat": 4,
 "nbformat_minor": 2
}
